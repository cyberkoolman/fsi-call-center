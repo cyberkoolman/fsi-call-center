{
 "cells": [
  {
   "cell_type": "code",
   "execution_count": 1,
   "id": "6389def7-6160-46c9-85bb-7869e584bd43",
   "metadata": {},
   "outputs": [],
   "source": [
    "import os\n",
    "import sys\n",
    "import logging\n",
    "from semantic_kernel import Kernel\n",
    "from semantic_kernel.connectors.ai.open_ai import AzureChatCompletion\n",
    "from semantic_kernel.connectors.ai import PromptExecutionSettings, FunctionChoiceBehavior"
   ]
  },
  {
   "cell_type": "code",
   "execution_count": 2,
   "id": "c83dd331-1b14-4661-b863-d9318b69a944",
   "metadata": {},
   "outputs": [],
   "source": [
    "question = \"How many calls were made in last 3 months?\""
   ]
  },
  {
   "cell_type": "code",
   "execution_count": 3,
   "id": "4367a4a8-366b-4461-a7f0-75febcb6e6bb",
   "metadata": {},
   "outputs": [],
   "source": [
    "# Load configuration from appsettings.json\n",
    "import json\n",
    "with open('appsettings.json', 'r') as f:\n",
    "    configuration = json.load(f)"
   ]
  },
  {
   "cell_type": "code",
   "execution_count": 4,
   "id": "6d1622a8-ff40-4d51-9037-73819eb5d321",
   "metadata": {},
   "outputs": [],
   "source": [
    "api_key = configuration[\"AzureOpenAI\"][\"ApiKey\"]\n",
    "deployment_chat_name = configuration[\"AzureOpenAI\"][\"DeploymentChatName\"]\n",
    "endpoint = configuration[\"AzureOpenAI\"][\"Endpoint\"]"
   ]
  },
  {
   "cell_type": "code",
   "execution_count": 6,
   "id": "d868b414-4b11-4f09-98df-0b5f50531b8a",
   "metadata": {},
   "outputs": [],
   "source": [
    "# Create Kernel\n",
    "kernel = Kernel()\n",
    "kernel.add_service(AzureChatCompletion(deployment_chat_name, endpoint, api_key))"
   ]
  },
  {
   "cell_type": "code",
   "execution_count": 13,
   "id": "aa17fec6-7097-467c-bd07-3d09d2b091c5",
   "metadata": {},
   "outputs": [
    {
     "data": {
      "text/plain": [
       "KernelPlugin(name='NlpToSqlPlugin', description=None, functions={'ConvertNLPToSQL': KernelFunctionFromPrompt(metadata=KernelFunctionMetadata(name='ConvertNLPToSQL', plugin_name='NlpToSqlPlugin', description='Write SQL queries given a Natural Language description', parameters=[KernelParameterMetadata(name='input', description='', default_value='', type_='', is_required=True, type_object=None, schema_data={'type': 'object'}, include_in_function_choices=True)], is_prompt=True, is_asynchronous=True, return_parameter=KernelParameterMetadata(name='return', description='The completion result', default_value=None, type_='FunctionResult', is_required=True, type_object=None, schema_data=None, include_in_function_choices=True), additional_properties=None), invocation_duration_histogram=<opentelemetry.metrics._internal.instrument._ProxyHistogram object at 0x000001ADFC7B4550>, streaming_duration_histogram=<opentelemetry.metrics._internal.instrument._ProxyHistogram object at 0x000001ADEE4B2690>, prompt_template=KernelPromptTemplate(prompt_template_config=PromptTemplateConfig(name='ConvertNLPToSQL', description='Write SQL queries given a Natural Language description', template='You are an expert at writing SQL queries throught a given Natural Language description of the OBJECTIVE. \\n---\\n{{$input}}\\n---\\n\\nYou will generate a SQL SELECT query that is compatible with Transact-SQL and achieves the given OBJECTIVE. \\nYou use only the tables and views described in following SCHEMA:\\n\\nCREATE TABLE CustomerIssues (\\n    Id INT IDENTITY(1,1) PRIMARY KEY,\\n    ClassifiedReason NVARCHAR(50),\\n    ResolveStatus NVARCHAR(50),\\n    CallSummary NVARCHAR(500),\\n    CustomerName NVARCHAR(100),\\n    EmployeeName NVARCHAR(100),\\n    OrderNumber NVARCHAR(50),\\n    CustomerContactNr NVARCHAR(50),\\n    NewAddress NVARCHAR(100),\\n    SentimentInitial NVARCHAR(100),\\n    SentimentFinal NVARCHAR(100),\\n    SatisfactionScoreInitial INT,\\n    SatisfactionScoreFinal INT,\\n    Eta NVARCHAR(50),\\n    ActionItem NVARCHAR(100),\\n    CallDate DATE\\n);\\n\\nThe output must be a SQL SELECT query that achieves the OBJECTIVE.\\nUse Transact-SQL syntax to write the query compatible with Microsoft SQL Server and Azure SQL Database.\\n- Never allow DML statements (INSERT, UPDATE, DELETE) in the query.\\n- If you getting zero results, try 2 more different approaches to achieve the OBJECTIVE.', template_format='semantic-kernel', input_variables=[InputVariable(name='input', description='', default='', is_required=True, json_schema='', allow_dangerously_set_content=False)], allow_dangerously_set_content=False, execution_settings={'default': PromptExecutionSettings(service_id=None, extension_data={'max_tokens': 4000, 'temperature': 0.0, 'top_p': 0.0, 'presence_penalty': 0.0, 'frequency_penalty': 0.0}, function_choice_behavior=None)}), allow_dangerously_set_content=False), prompt_execution_settings={'default': PromptExecutionSettings(service_id=None, extension_data={'max_tokens': 4000, 'temperature': 0.0, 'top_p': 0.0, 'presence_penalty': 0.0, 'frequency_penalty': 0.0}, function_choice_behavior=None)}), 'WriteResponse': KernelFunctionFromPrompt(metadata=KernelFunctionMetadata(name='WriteResponse', plugin_name='NlpToSqlPlugin', description='Write a friendly response given a database query result', parameters=[KernelParameterMetadata(name='input', description='', default_value='', type_='', is_required=True, type_object=None, schema_data={'type': 'object'}, include_in_function_choices=True)], is_prompt=True, is_asynchronous=True, return_parameter=KernelParameterMetadata(name='return', description='The completion result', default_value=None, type_='FunctionResult', is_required=True, type_object=None, schema_data=None, include_in_function_choices=True), additional_properties=None), invocation_duration_histogram=<opentelemetry.metrics._internal.instrument._ProxyHistogram object at 0x000001ADEC79EED0>, streaming_duration_histogram=<opentelemetry.metrics._internal.instrument._ProxyHistogram object at 0x000001ADFC77F290>, prompt_template=KernelPromptTemplate(prompt_template_config=PromptTemplateConfig(name='WriteResponse', description='Write a friendly response given a database query result', template='The user has provided a Natural Language description of the OBJECTIVE\\n---\\n{{$input}}\\n---\\nYour goal is to create a response to the end user based on the OBJECTIVE.\\nThe response should be formulated based on the information returned from the database and the original user input.\\nDescribe the results that answers the question in a first short paragraph, and then explain the reasoning steps that you used in a short second paragraph.\\n\\nEx: \\nResponse: [{\\'NumberOfTransactions\\': 30}]\\nMessage -> According to the database query the number of transactions is 30.\\n\\n\"\"\"', template_format='semantic-kernel', input_variables=[InputVariable(name='input', description='', default='', is_required=True, json_schema='', allow_dangerously_set_content=False)], allow_dangerously_set_content=False, execution_settings={'default': PromptExecutionSettings(service_id=None, extension_data={'max_tokens': 4000, 'temperature': 0.0, 'top_p': 0.0, 'presence_penalty': 0.0, 'frequency_penalty': 0.0}, function_choice_behavior=None)}), allow_dangerously_set_content=False), prompt_execution_settings={'default': PromptExecutionSettings(service_id=None, extension_data={'max_tokens': 4000, 'temperature': 0.0, 'top_p': 0.0, 'presence_penalty': 0.0, 'frequency_penalty': 0.0}, function_choice_behavior=None)})})"
      ]
     },
     "execution_count": 13,
     "metadata": {},
     "output_type": "execute_result"
    }
   ],
   "source": [
    "# Import Plugins\n",
    "kernel.add_plugin(parent_directory=\"./Plugins/\", plugin_name=\"NlpToSqlPlugin\")"
   ]
  },
  {
   "cell_type": "code",
   "execution_count": null,
   "id": "412e5480-9d15-47a7-9090-a953ae34e8d7",
   "metadata": {},
   "outputs": [],
   "source": []
  }
 ],
 "metadata": {
  "kernelspec": {
   "display_name": "Python 3 (ipykernel)",
   "language": "python",
   "name": "python3"
  },
  "language_info": {
   "codemirror_mode": {
    "name": "ipython",
    "version": 3
   },
   "file_extension": ".py",
   "mimetype": "text/x-python",
   "name": "python",
   "nbconvert_exporter": "python",
   "pygments_lexer": "ipython3",
   "version": "3.11.9"
  }
 },
 "nbformat": 4,
 "nbformat_minor": 5
}
